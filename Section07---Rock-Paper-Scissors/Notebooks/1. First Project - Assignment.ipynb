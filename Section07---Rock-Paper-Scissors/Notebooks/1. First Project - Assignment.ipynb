{
 "cells": [
  {
   "cell_type": "markdown",
   "metadata": {},
   "source": [
    "# Project 1- Assignment\n",
    "## Congratulations on making it to your first project\n",
    "You've already learned a lot and are ready to work on a real project.\n",
    "\n",
    "Your assignment: Creat a Rock-Paper-Scissors game. You are free to use any IDE you like.\n",
    "\n",
    "Here are the requirements:\n",
    "\n",
    "* 2 players should be able to play the game(both sitting at the same computer)\n",
    "* After every match you should print out the marks of two players.\n",
    "* Either one player has to get three marks to win the game.\n",
    "* You also need to display the winner after the game.\n",
    "* Then you should be able to decide on playing the game next round or not.\n",
    "\n",
    "Feel free to use Google to help you figure anything out (but don't just Google \"Rock-Paper-Scissors in Python\" otherwise you won't learn anything!) Keep in mind that this project can take anywhere between several hours to several days.\n",
    "\n",
    "There are 3 jupyter Notebooks related to this assignment:\n",
    "\n",
    "* This Assignment Notebook\n",
    "* Hints & Tips Notebook\n",
    "* Complete Solutions Notebook\n",
    "\n",
    "I encourage you to just try to start the project on your own without referencing any of the notebooks. If you get stuck, check out the next lecture which is a text lecture with helpful hints and tips, which breaks up the project in steps for you to solve. Still stuck? Then check out the Complete Solutions Notebook for more help on approaching the project! \n"
   ]
  },
  {
   "cell_type": "markdown",
   "metadata": {},
   "source": [
    "Remember, it's totally open book, so take your time, do a little research, and remember:"
   ]
  },
  {
   "cell_type": "markdown",
   "metadata": {},
   "source": [
    "## Have Fun!"
   ]
  }
 ],
 "metadata": {
  "kernelspec": {
   "display_name": "Python 3",
   "language": "python",
   "name": "python3"
  },
  "language_info": {
   "codemirror_mode": {
    "name": "ipython",
    "version": 3
   },
   "file_extension": ".py",
   "mimetype": "text/x-python",
   "name": "python",
   "nbconvert_exporter": "python",
   "pygments_lexer": "ipython3",
   "version": "3.6.4"
  }
 },
 "nbformat": 4,
 "nbformat_minor": 2
}
