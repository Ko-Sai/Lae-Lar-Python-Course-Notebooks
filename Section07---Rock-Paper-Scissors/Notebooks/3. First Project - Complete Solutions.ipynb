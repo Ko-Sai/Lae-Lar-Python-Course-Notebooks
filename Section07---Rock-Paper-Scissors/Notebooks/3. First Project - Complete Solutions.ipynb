{
 "cells": [
  {
   "cell_type": "markdown",
   "metadata": {},
   "source": [
    "# Project 1- Complete Solutions"
   ]
  },
  {
   "cell_type": "markdown",
   "metadata": {},
   "source": [
    "Below is the complete code that goes along with the complete solutions video."
   ]
  },
  {
   "cell_type": "markdown",
   "metadata": {},
   "source": [
    "**Step1 : Write statements to ask for player inputs and assign their names as *player1* and *player2* respectively.**"
   ]
  },
  {
   "cell_type": "code",
   "execution_count": 7,
   "metadata": {},
   "outputs": [
    {
     "name": "stdout",
     "output_type": "stream",
     "text": [
      "Player 1 - What is your name?: Kosai\n",
      "Player 2 - What is your name?: Kophyo\n",
      "\n",
      "Player 1 : Kosai    Player 2 : Kophyo\n",
      "Let's get started!\n",
      "\n"
     ]
    }
   ],
   "source": [
    "# Asking for the players' names\n",
    "player1 = input('Player 1 - What is your name?: ')\n",
    "player2 = input('Player 2 - What is your name?: ')\n",
    "    \n",
    "print(f'\\nPlayer 1 : {player1}    Player 2 : {player2}')\n",
    "print(\"Let's get started!\\n\")"
   ]
  },
  {
   "cell_type": "markdown",
   "metadata": {},
   "source": [
    "**Step2 : Write a function to ask for choices of rock, paper, scissors of the two players in turn and assign them as *user1* and *user2*. Think about using *while* loops to continually ask until you get a correct answer.**"
   ]
  },
  {
   "cell_type": "code",
   "execution_count": 8,
   "metadata": {},
   "outputs": [],
   "source": [
    "from IPython.display import clear_output\n",
    "\n",
    "def user_input():\n",
    "    \n",
    "    user1 = ''\n",
    "    user2 = ''\n",
    "    \n",
    "    # To ask for the user1 input until the right ones\n",
    "    while not (user1 == 'rock' or user1 == 'paper' or user1 == 'scissors'):\n",
    "        \n",
    "        # Making the inputs to lower case letters\n",
    "        user1 = input(f'{player1}, what do you want? Rock, Paper, or Scissors? : ').lower()\n",
    "        \n",
    "    # To ask for the user2 input until the right ones    \n",
    "    while not (user2 == 'rock' or user2 == 'paper' or user2 == 'scissors'):   \n",
    "        \n",
    "        #clearing the output screen\n",
    "        clear_output()\n",
    "        # Making the inputs to lower case letters\n",
    "        user2 = input(f'{player2}, what do you want? Rock, Paper, or Scissors? : ').lower()\n",
    "     \n",
    "    #returning user1 and user2 as a tuple\n",
    "    return (user1,user2)"
   ]
  },
  {
   "cell_type": "markdown",
   "metadata": {},
   "source": [
    "**TEST Step2 : run the function to make sure it returns the desired output.**"
   ]
  },
  {
   "cell_type": "code",
   "execution_count": 9,
   "metadata": {},
   "outputs": [
    {
     "name": "stdout",
     "output_type": "stream",
     "text": [
      "Kophyo, what do you want? Rock, Paper, or Scissors? : paper\n"
     ]
    }
   ],
   "source": [
    "#using tuple unpacking to assign values\n",
    "user1,user2 = user_input()"
   ]
  },
  {
   "cell_type": "markdown",
   "metadata": {},
   "source": [
    "**Step3 : Write a function to compare the inputs of two players and analyze who to win printing out the winner and marks after every match until a player gets 3 marks to complete the game. Assign the marks of two players as *players*.** "
   ]
  },
  {
   "cell_type": "code",
   "execution_count": 10,
   "metadata": {},
   "outputs": [],
   "source": [
    "players = {player1:0, player2:0}\n",
    "\n",
    "def compare(players, player1, player2, user1, user2):\n",
    "    \n",
    "    # For the same outcome condition\n",
    "    if user1 == user2:\n",
    "        print('\\nDraws!')\n",
    "    \n",
    "    # Comparing the outcomes \n",
    "    elif user1 == 'rock':\n",
    "        if user2 == 'scissors':\n",
    "            print(f'\\n{player1} wins!')\n",
    "            \n",
    "            # Adding marks to player1\n",
    "            players[player1] += 1\n",
    "        else:\n",
    "            print(f'\\n{player2} wins!')\n",
    "            \n",
    "            # Adding marks to player2\n",
    "            players[player2] += 1\n",
    "    \n",
    "    # Comparing the outcomes\n",
    "    elif user1 == 'paper':\n",
    "        if user2 == 'scissors':\n",
    "            print(f'\\n{player2} wins!')\n",
    "            \n",
    "            # Adding marks to player2\n",
    "            players[player2] += 1\n",
    "        else:\n",
    "            print(f'\\n{player1} wins!')\n",
    "            \n",
    "            # Adding marks to player1\n",
    "            players[player1] += 1\n",
    "            \n",
    "    # Comparing the outcomes        \n",
    "    elif user1 == 'scissors':\n",
    "        if user2 == 'rock':\n",
    "            print(f'\\n{player2} wins!')\n",
    "            \n",
    "            # Adding marks to player2\n",
    "            players[player2] += 1\n",
    "        else:\n",
    "            print(f'\\n{player1} wins!')\n",
    "            \n",
    "            # Adding marks to player1\n",
    "            players[player1] += 1\n",
    "    \n",
    "    # If both players still get under 3 marks, print the marks and next round\n",
    "    if players[player1] < 3 and players[player2] < 3:\n",
    "        print(f'{player1} : {players[player1]}   {player2} : {players[player2]}')\n",
    "        print('Next round...\\n')\n",
    "        \n",
    "    # If not, just print the marks    \n",
    "    else:\n",
    "        print(f'{player1} : {players[player1]}   {player2} : {players[player2]}')"
   ]
  },
  {
   "cell_type": "markdown",
   "metadata": {},
   "source": [
    "**TEST Step3 : run the function to make sure it returns the desired output.**"
   ]
  },
  {
   "cell_type": "code",
   "execution_count": 11,
   "metadata": {},
   "outputs": [
    {
     "name": "stdout",
     "output_type": "stream",
     "text": [
      "\n",
      "Kophyo wins!\n",
      "Kosai : 0   Kophyo : 1\n",
      "Next round...\n",
      "\n"
     ]
    }
   ],
   "source": [
    "compare(players, player1, player2, user1, user2)"
   ]
  },
  {
   "cell_type": "markdown",
   "metadata": {},
   "source": [
    "**Step4 : Here comes the hardest part! Use while loops and the functions you've made to run for the game!**"
   ]
  },
  {
   "cell_type": "code",
   "execution_count": 12,
   "metadata": {},
   "outputs": [
    {
     "name": "stdout",
     "output_type": "stream",
     "text": [
      "Kophyo, what do you want? Rock, Paper, or Scissors? : paper\n",
      "\n",
      "Kosai wins!\n",
      "Kosai : 3   Kophyo : 0\n",
      "Congratulations! Kosai \n",
      "Do you want to play again? Y or N: n\n"
     ]
    }
   ],
   "source": [
    "players = {player1:0, player2:0}\n",
    "\n",
    "while True:\n",
    "    \n",
    "    # Set the game\n",
    "    user1,user2 = user_input()\n",
    "    compare(players, player1, player2, user1, user2)\n",
    "    \n",
    "    # The condition when either one player gets 3 marks\n",
    "    if players[player1] == 3 or players[player2] == 3:\n",
    "        \n",
    "        # If player1 gets 3marks\n",
    "        if players[player1] == 3:\n",
    "            \n",
    "            print('Congratulations! {} '.format(player1))\n",
    "        \n",
    "        # If player2 gets 3marks\n",
    "        else:\n",
    "            print('Congratulations! {} '.format(player2))\n",
    "        \n",
    "        # Ask for the game next round and make the input upper case letter\n",
    "        result = input('Do you want to play again? Y or N: ').upper()\n",
    "        \n",
    "        # If 'Y', reset the marks \n",
    "        if result == 'Y':\n",
    "            \n",
    "            players = {player1:0, player2:0}\n",
    "            continue\n",
    "        \n",
    "        # If 'N' stop the game\n",
    "        else:\n",
    "            break"
   ]
  },
  {
   "cell_type": "markdown",
   "metadata": {},
   "source": [
    "## Great Job!"
   ]
  }
 ],
 "metadata": {
  "kernelspec": {
   "display_name": "Python 3",
   "language": "python",
   "name": "python3"
  },
  "language_info": {
   "codemirror_mode": {
    "name": "ipython",
    "version": 3
   },
   "file_extension": ".py",
   "mimetype": "text/x-python",
   "name": "python",
   "nbconvert_exporter": "python",
   "pygments_lexer": "ipython3",
   "version": "3.6.4"
  }
 },
 "nbformat": 4,
 "nbformat_minor": 2
}
