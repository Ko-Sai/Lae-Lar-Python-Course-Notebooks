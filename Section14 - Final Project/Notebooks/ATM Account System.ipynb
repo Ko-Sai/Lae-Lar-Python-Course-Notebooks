{
 "cells": [
  {
   "cell_type": "markdown",
   "metadata": {},
   "source": [
    "# ATM Account System"
   ]
  },
  {
   "cell_type": "markdown",
   "metadata": {},
   "source": [
    "This is one of the Final projects. Feel free to modify this project and add features you think could help. Good Luck!"
   ]
  },
  {
   "cell_type": "markdown",
   "metadata": {},
   "source": [
    "For the basic requirement, you should be able to create accounts first(including full name, username and password) and then sign in to them. After this, there must be five features in the account system:\n",
    "\n",
    "    1.) Your account info(you can add what you want)\n",
    "    2.) Your deposits\n",
    "    3.) Your withdrawals\n",
    "    4.) Your transference of cash(between accounts which must have already been signed up earlier.)\n",
    "    5.) An act of sign-out\n",
    "    \n",
    "**Note: You should be able to go back to the main screen when you don't want to do the particular task anymore.**  "
   ]
  }
 ],
 "metadata": {
  "kernelspec": {
   "display_name": "Python 3",
   "language": "python",
   "name": "python3"
  },
  "language_info": {
   "codemirror_mode": {
    "name": "ipython",
    "version": 3
   },
   "file_extension": ".py",
   "mimetype": "text/x-python",
   "name": "python",
   "nbconvert_exporter": "python",
   "pygments_lexer": "ipython3",
   "version": "3.6.4"
  }
 },
 "nbformat": 4,
 "nbformat_minor": 2
}
