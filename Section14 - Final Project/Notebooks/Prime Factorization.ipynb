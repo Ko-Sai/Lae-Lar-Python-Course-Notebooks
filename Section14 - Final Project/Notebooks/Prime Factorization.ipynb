{
 "cells": [
  {
   "cell_type": "markdown",
   "metadata": {},
   "source": [
    "# Prime Factorization"
   ]
  },
  {
   "cell_type": "markdown",
   "metadata": {},
   "source": [
    "This is one of the Final projects. Feel free to write the code.\n",
    "\n",
    "Prime factors are prime numbers which multiply together to have the given number. For your info, a prime number can be divided exactly only 1 or by itself. You can have more information about prime factorization on this link https://www.mathsisfun.com/prime-factorization.html "
   ]
  },
  {
   "cell_type": "markdown",
   "metadata": {},
   "source": [
    "For the basic requirement, you must let the user enter a number and find all the prime factors of that number and display them."
   ]
  }
 ],
 "metadata": {
  "kernelspec": {
   "display_name": "Python 3",
   "language": "python",
   "name": "python3"
  },
  "language_info": {
   "codemirror_mode": {
    "name": "ipython",
    "version": 3
   },
   "file_extension": ".py",
   "mimetype": "text/x-python",
   "name": "python",
   "nbconvert_exporter": "python",
   "pygments_lexer": "ipython3",
   "version": "3.6.4"
  }
 },
 "nbformat": 4,
 "nbformat_minor": 2
}
