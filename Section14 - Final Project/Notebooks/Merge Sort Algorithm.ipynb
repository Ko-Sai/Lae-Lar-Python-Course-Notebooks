{
 "cells": [
  {
   "cell_type": "markdown",
   "metadata": {},
   "source": [
    "# Merge Sort Algorithm"
   ]
  },
  {
   "cell_type": "markdown",
   "metadata": {},
   "source": [
    "This is one of the Final projects. Feel free to write the code.\n",
    "\n",
    "Merge sort algorithm is a divide and conquer one which divides the input array into two equal parts(based on the median) until there is one element per group. Compare each of the elements and then group them by sorting. The resulting sorted sequences are merged to get a single sorted sequence. For more details, you should check out the following link https://www.tutorialspoint.com/data_structures_algorithms/merge_sort_algorithm.htm"
   ]
  },
  {
   "cell_type": "markdown",
   "metadata": {},
   "source": [
    "For the basic requirement, you should be able to enter an input integer number array and have the program return the sorted array."
   ]
  }
 ],
 "metadata": {
  "kernelspec": {
   "display_name": "Python 3",
   "language": "python",
   "name": "python3"
  },
  "language_info": {
   "codemirror_mode": {
    "name": "ipython",
    "version": 3
   },
   "file_extension": ".py",
   "mimetype": "text/x-python",
   "name": "python",
   "nbconvert_exporter": "python",
   "pygments_lexer": "ipython3",
   "version": "3.6.4"
  }
 },
 "nbformat": 4,
 "nbformat_minor": 2
}
