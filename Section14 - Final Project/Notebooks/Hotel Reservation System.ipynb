{
 "cells": [
  {
   "cell_type": "markdown",
   "metadata": {},
   "source": [
    "# Hotel Reservation System"
   ]
  },
  {
   "cell_type": "markdown",
   "metadata": {},
   "source": [
    "This is one of the Final projects. Feel free to adapt this project and add features you think could help. Good Luck!"
   ]
  },
  {
   "cell_type": "markdown",
   "metadata": {},
   "source": [
    "For the basic requirement, you should be able to sign up accounts and sign in to them. After this, there must be five features in this reservation system.\n",
    "\n",
    "    1.) You should be able to book the hotel rooms checking out the availability. \n",
    "    2.) You can enter the number of people and the system would give back recommendations and costs of the rooms that would  fit for all of you.\n",
    "    3.) You should be able to rate the facility of the hotel and the feedbacks must be displayed in hotel info.\n",
    "    4.) You should be able to look into the info of the hotel(you can add what you want)\n",
    "    5.) A log-out system"
   ]
  },
  {
   "cell_type": "markdown",
   "metadata": {},
   "source": [
    "**Note: After every task, you should be able to go back to the main screen.**"
   ]
  }
 ],
 "metadata": {
  "kernelspec": {
   "display_name": "Python 3",
   "language": "python",
   "name": "python3"
  },
  "language_info": {
   "codemirror_mode": {
    "name": "ipython",
    "version": 3
   },
   "file_extension": ".py",
   "mimetype": "text/x-python",
   "name": "python",
   "nbconvert_exporter": "python",
   "pygments_lexer": "ipython3",
   "version": "3.6.4"
  }
 },
 "nbformat": 4,
 "nbformat_minor": 2
}
