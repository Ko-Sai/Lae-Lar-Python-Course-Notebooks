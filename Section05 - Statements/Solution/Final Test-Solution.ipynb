{
 "cells": [
  {
   "cell_type": "markdown",
   "metadata": {},
   "source": [
    "# Statements Assessment Test"
   ]
  },
  {
   "cell_type": "markdown",
   "metadata": {},
   "source": [
    "1.) Use for, .split(), and if to create a Statement that will print out words that end with 's'"
   ]
  },
  {
   "cell_type": "code",
   "execution_count": 1,
   "metadata": {},
   "outputs": [],
   "source": [
    "st = 'Print only the words that end with s in this sentence'"
   ]
  },
  {
   "cell_type": "code",
   "execution_count": 2,
   "metadata": {},
   "outputs": [
    {
     "name": "stdout",
     "output_type": "stream",
     "text": [
      "words\n",
      "s\n",
      "this\n"
     ]
    }
   ],
   "source": [
    "# Code here\n",
    "for word in st.split():\n",
    "    if word[-1]== 's':\n",
    "        print(word)"
   ]
  },
  {
   "cell_type": "markdown",
   "metadata": {},
   "source": [
    "2.) Go through the string below and if the length of a word is odd, print it."
   ]
  },
  {
   "cell_type": "code",
   "execution_count": 3,
   "metadata": {},
   "outputs": [],
   "source": [
    "st = 'Print every word in this sentence that has an odd number of letters'"
   ]
  },
  {
   "cell_type": "code",
   "execution_count": 26,
   "metadata": {},
   "outputs": [
    {
     "name": "stdout",
     "output_type": "stream",
     "text": [
      "a\n",
      "the\n",
      "first\n",
      "letters\n",
      "every\n"
     ]
    }
   ],
   "source": [
    "# Code here\n",
    "for word in st.split():\n",
    "    if len(word)% 2 != 0:\n",
    "        print(word)"
   ]
  },
  {
   "cell_type": "markdown",
   "metadata": {},
   "source": [
    "3.) Write a program that prints the integers from 1 to 20. But for even numbers, print  'Choco' and for the multiples of five, print  'Straw'. For numbers which are both even numbers  and multiples of five, print  'Mixed'."
   ]
  },
  {
   "cell_type": "code",
   "execution_count": 1,
   "metadata": {},
   "outputs": [
    {
     "name": "stdout",
     "output_type": "stream",
     "text": [
      "1\n",
      "Choco\n",
      "3\n",
      "Choco\n",
      "Straw\n",
      "Choco\n",
      "7\n",
      "Choco\n",
      "9\n",
      "Mixed\n",
      "11\n",
      "Choco\n",
      "13\n",
      "Choco\n",
      "Straw\n",
      "Choco\n",
      "17\n",
      "Choco\n",
      "19\n",
      "Mixed\n"
     ]
    }
   ],
   "source": [
    "# Code here\n",
    "for num in range(1,21):\n",
    "    if num % 2 == 0 and num % 5 == 0:\n",
    "        print('Mixed')\n",
    "    elif num % 2 == 0:\n",
    "        print('Choco')\n",
    "    elif num % 5 == 0:\n",
    "        print('Straw')\n",
    "    else:\n",
    "        print(num)"
   ]
  },
  {
   "cell_type": "markdown",
   "metadata": {},
   "source": [
    "4.) Using while, count *till 10*. But stop counting when there comes the number 4."
   ]
  },
  {
   "cell_type": "code",
   "execution_count": 27,
   "metadata": {},
   "outputs": [
    {
     "name": "stdout",
     "output_type": "stream",
     "text": [
      "x is currently : 0\n",
      "x is currently : 1\n",
      "x is currently : 2\n",
      "x is currently : 3\n",
      "Let me stop here\n"
     ]
    }
   ],
   "source": [
    "# Code here\n",
    "x = 0\n",
    "\n",
    "while x < 10:\n",
    "    print('x is currently :',x)\n",
    "    x += 1\n",
    "    if x == 4:\n",
    "        print('Let me stop here')\n",
    "        break"
   ]
  },
  {
   "cell_type": "markdown",
   "metadata": {},
   "source": [
    "5.) Use range() to print all the odd numbers from 0 to 10."
   ]
  },
  {
   "cell_type": "code",
   "execution_count": 14,
   "metadata": {},
   "outputs": [
    {
     "data": {
      "text/plain": [
       "[1, 3, 5, 7, 9]"
      ]
     },
     "execution_count": 14,
     "metadata": {},
     "output_type": "execute_result"
    }
   ],
   "source": [
    "# Code here\n",
    "list(range(1,11,2))"
   ]
  },
  {
   "cell_type": "markdown",
   "metadata": {},
   "source": [
    "6.) Keep track of each element of the list below using enumerate() and display the total count of index."
   ]
  },
  {
   "cell_type": "code",
   "execution_count": 15,
   "metadata": {},
   "outputs": [],
   "source": [
    "lst =  ['Start',0,('haha','0'),{'k1': 5}]"
   ]
  },
  {
   "cell_type": "code",
   "execution_count": 16,
   "metadata": {},
   "outputs": [
    {
     "name": "stdout",
     "output_type": "stream",
     "text": [
      "0 Start\n",
      "1 0\n",
      "2 ('haha', '0')\n",
      "3 {'k1': 5}\n",
      "Index count : 4\n"
     ]
    }
   ],
   "source": [
    "# Code here\n",
    "count = 0\n",
    "for i,letter in enumerate(lst):\n",
    "    print(i,letter)\n",
    "    count += 1\n",
    "print('Index count :', count)"
   ]
  },
  {
   "cell_type": "markdown",
   "metadata": {},
   "source": [
    "7.) Use a List Comprehension to create a list of the first letters of every word in the string below:"
   ]
  },
  {
   "cell_type": "code",
   "execution_count": 17,
   "metadata": {},
   "outputs": [],
   "source": [
    "st = 'Create a list of the first letters of every word in this string'"
   ]
  },
  {
   "cell_type": "code",
   "execution_count": 18,
   "metadata": {},
   "outputs": [
    {
     "data": {
      "text/plain": [
       "['C', 'a', 'l', 'o', 't', 'f', 'l', 'o', 'e', 'w', 'i', 't', 's']"
      ]
     },
     "execution_count": 18,
     "metadata": {},
     "output_type": "execute_result"
    }
   ],
   "source": [
    "# Code here\n",
    "[ word[0] for word in st.split() ]"
   ]
  },
  {
   "cell_type": "markdown",
   "metadata": {},
   "source": [
    "### Have a Nice Day!"
   ]
  }
 ],
 "metadata": {
  "kernelspec": {
   "display_name": "Python 3",
   "language": "python",
   "name": "python3"
  },
  "language_info": {
   "codemirror_mode": {
    "name": "ipython",
    "version": 3
   },
   "file_extension": ".py",
   "mimetype": "text/x-python",
   "name": "python",
   "nbconvert_exporter": "python",
   "pygments_lexer": "ipython3",
   "version": "3.6.4"
  }
 },
 "nbformat": 4,
 "nbformat_minor": 2
}
