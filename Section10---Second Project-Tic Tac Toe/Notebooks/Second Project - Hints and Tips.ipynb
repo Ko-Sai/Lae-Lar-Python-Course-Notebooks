{
 "cells": [
  {
   "cell_type": "markdown",
   "metadata": {},
   "source": [
    "# Project 2-Hints & Tips\n",
    "Here are a few steps for you to follow to try to create the Tic-Tac-Toe game!"
   ]
  },
  {
   "cell_type": "markdown",
   "metadata": {},
   "source": [
    "**Step1 : Create a Board class**<br>\n",
    "Here are the step by step guideline for creating a board class.\n",
    "\n",
    "- First, you need to create a board to display it on the screen. For that, fill out the display method and check if it really works or not.\n",
    "\n",
    "- Second, you can print anything you want at the start of the game(decorating the display). For that, jump to Step2 and fill the print_header() function.\n",
    "\n",
    "- Third, fill out the refresh_screen() function in Step3 to clearing the output. In that function, put the header function and display board method as well. So, everytime you calling it, the new board is displayed on the screen.\n",
    "\n",
    "- Fourth, try to fill out the Step4 while loop. Use some methods provided in Step1 Board Class to make our game alive!"
   ]
  },
  {
   "cell_type": "code",
   "execution_count": 2,
   "metadata": {},
   "outputs": [],
   "source": [
    "from IPython.display import clear_output\n",
    "clear_output()\n",
    "\n",
    "class Board():\n",
    "    \n",
    "    def __init__(self):\n",
    "        self.cells = [\"\",\" \",\" \",\" \",\" \",\" \",\" \",\" \",\" \",\" \"]\n",
    "    \n",
    "    #displaying the tic-tac-toe board by using some print functions\n",
    "    def display(self):\n",
    "        pass\n",
    "    \n",
    "    #update the cells list with 'X' or 'O' if user chooses a cell number\n",
    "    def update_cells(self, cell_num, player):\n",
    "        pass\n",
    "    \n",
    "    #checking the empty cell\n",
    "    #return true if there is an empty cell\n",
    "    def space_check(self, cell_num):\n",
    "        pass\n",
    "    \n",
    "    #checking the winner\n",
    "    def is_winner(self, player):\n",
    "        pass\n",
    "    \n",
    "    #checking tie or not\n",
    "    def is_tie(self):\n",
    "        pass\n",
    "    \n",
    "    #reseting the board\n",
    "    def reset(self):\n",
    "        pass"
   ]
  },
  {
   "cell_type": "markdown",
   "metadata": {},
   "source": [
    "You can test your methods here."
   ]
  },
  {
   "cell_type": "code",
   "execution_count": null,
   "metadata": {},
   "outputs": [],
   "source": []
  },
  {
   "cell_type": "markdown",
   "metadata": {},
   "source": [
    "**Step2 : Write a function to decorate the game by printing anything you like at the start of it.**"
   ]
  },
  {
   "cell_type": "code",
   "execution_count": 4,
   "metadata": {},
   "outputs": [],
   "source": [
    "def print_header():\n",
    "    \n",
    "    pass"
   ]
  },
  {
   "cell_type": "markdown",
   "metadata": {},
   "source": [
    "**Step3 : Design a function that clears the output and displays the headers and the board above you have written.**"
   ]
  },
  {
   "cell_type": "code",
   "execution_count": 5,
   "metadata": {},
   "outputs": [],
   "source": [
    "def refresh_screen():\n",
    "    \n",
    "    pass"
   ]
  },
  {
   "cell_type": "markdown",
   "metadata": {},
   "source": [
    "**Step4 : Here comes the hard part! Use while loop, the functions and the methods of the class you've made to run the game.** "
   ]
  },
  {
   "cell_type": "code",
   "execution_count": null,
   "metadata": {},
   "outputs": [],
   "source": [
    "board = Board()\n",
    "\n",
    "# while True:\n",
    "    \n",
    "    # Refresh the screen\n",
    "    \n",
    "    # X turn \n",
    "    \n",
    "    #update cells\n",
    "    \n",
    "    # test winner\n",
    "        # if play again\n",
    "            # reset the board\n",
    "        # if not\n",
    "            # break\n",
    "    # Refresh the screen\n",
    "    \n",
    "    # Tie test\n",
    "    \n",
    "    # O turn\n",
    "    \n",
    "    #update cells\n",
    "    \n",
    "    # test winner\n",
    "        # if play again\n",
    "            # reset the board\n",
    "        # if not\n",
    "            # break"
   ]
  },
  {
   "cell_type": "markdown",
   "metadata": {},
   "source": [
    "## Good Job!"
   ]
  }
 ],
 "metadata": {
  "kernelspec": {
   "display_name": "Python 3",
   "language": "python",
   "name": "python3"
  },
  "language_info": {
   "codemirror_mode": {
    "name": "ipython",
    "version": 3
   },
   "file_extension": ".py",
   "mimetype": "text/x-python",
   "name": "python",
   "nbconvert_exporter": "python",
   "pygments_lexer": "ipython3",
   "version": "3.6.4"
  }
 },
 "nbformat": 4,
 "nbformat_minor": 2
}
