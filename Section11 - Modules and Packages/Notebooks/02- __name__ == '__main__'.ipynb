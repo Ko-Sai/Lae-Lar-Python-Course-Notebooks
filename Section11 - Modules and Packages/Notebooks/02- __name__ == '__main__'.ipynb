{
 "cells": [
  {
   "cell_type": "markdown",
   "metadata": {},
   "source": [
    "# name == 'main'"
   ]
  },
  {
   "cell_type": "markdown",
   "metadata": {},
   "source": [
    "Sometimes when you are importing from a module, you would like to know whether\n",
    "a modules function is being used as an import, or if you are using the original\n",
    ".py file of that module. In this case we can use this to determine:"
   ]
  },
  {
   "cell_type": "code",
   "execution_count": 3,
   "metadata": {},
   "outputs": [],
   "source": [
    "if __name__ == '__main__':\n",
    "    # some codes here\n",
    "    pass"
   ]
  },
  {
   "cell_type": "markdown",
   "metadata": {},
   "source": [
    "You can run your script by passing it as a command to the Python interpreter as **python myscript.py**"
   ]
  },
  {
   "cell_type": "markdown",
   "metadata": {},
   "source": [
    "All of the code that is at indentation level 0 gets executed. Functions and\n",
    "classes that are defined are, well, defined, but none of their code gets run.\n",
    "Unlike other languages, there's no main() function that gets run automatically\n",
    "The main() function is indirectly represented to all the code at the top level."
   ]
  },
  {
   "cell_type": "markdown",
   "metadata": {},
   "source": [
    "In this case, the top-level code is an if block.  __name__ is a built-in variable\n",
    " which evaluate to the name of the current module. However, if a module is being\n",
    " run directly (as in myscript.py above), then __name__ instead is set to the\n",
    " string \"__main__\". Thus, you can test whether your script is being run directly\n",
    "  or being imported by something else by testing with **if __name__ == '__main__'**."
   ]
  },
  {
   "cell_type": "markdown",
   "metadata": {},
   "source": [
    "If that code is being imported into another module, the various function and\n",
    "class definitions will be imported, but the main() code won't get run. As a\n",
    "basic example, consider the following two scripts:"
   ]
  },
  {
   "cell_type": "code",
   "execution_count": null,
   "metadata": {},
   "outputs": [],
   "source": [
    "# file one.py\n",
    "def func():\n",
    "    print(\"func() in one.py\")\n",
    "\n",
    "print(\"top-level in one.py\")\n",
    "\n",
    "if __name__ == \"__main__\":\n",
    "    print(\"one.py is being run directly\")\n",
    "else:\n",
    "    print(\"one.py is being imported into another module\")"
   ]
  },
  {
   "cell_type": "code",
   "execution_count": null,
   "metadata": {},
   "outputs": [],
   "source": [
    "# file two.py\n",
    "import one\n",
    "\n",
    "print(\"top-level in two.py\")\n",
    "one.func()\n",
    "\n",
    "if __name__ == \"__main__\":\n",
    "    print(\"two.py is being run directly\")\n",
    "else:\n",
    "    print(\"two.py is being imported into another module\")"
   ]
  },
  {
   "cell_type": "markdown",
   "metadata": {},
   "source": [
    "Now, if you call for the interpreter as **python one.py**\n",
    "\n",
    "The output will be:\n",
    "\n",
    "    top-level in one.py  \n",
    "    one.py is being run directly"
   ]
  },
  {
   "cell_type": "markdown",
   "metadata": {},
   "source": [
    "If you run two.py instead as **python two.py**\n",
    "\n",
    "You will get:\n",
    "\n",
    "      top-level in one.py  \n",
    "      one.py is being imported into another module  \n",
    "      top-level in two.py  \n",
    "      func() in one.py  \n",
    "      two.py is being run directly  "
   ]
  },
  {
   "cell_type": "markdown",
   "metadata": {},
   "source": [
    "So, when module one gets loaded, its __name__ equals 'one' instead of __main__."
   ]
  },
  {
   "cell_type": "markdown",
   "metadata": {},
   "source": [
    "Now then, you might have a glimpse of syntax and semantics of modules and packages."
   ]
  }
 ],
 "metadata": {
  "kernelspec": {
   "display_name": "Python 3",
   "language": "python",
   "name": "python3"
  },
  "language_info": {
   "codemirror_mode": {
    "name": "ipython",
    "version": 3
   },
   "file_extension": ".py",
   "mimetype": "text/x-python",
   "name": "python",
   "nbconvert_exporter": "python",
   "pygments_lexer": "ipython3",
   "version": "3.6.4"
  }
 },
 "nbformat": 4,
 "nbformat_minor": 2
}
