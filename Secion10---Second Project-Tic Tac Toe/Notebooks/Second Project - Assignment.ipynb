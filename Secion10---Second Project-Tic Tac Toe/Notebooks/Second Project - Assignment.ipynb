{
 "cells": [
  {
   "cell_type": "markdown",
   "metadata": {},
   "source": [
    "# Project 2-Assigment\n",
    "In this project you will be creating a Tic-Tac-Toe game in Python.\n",
    "\n",
    "Here are the requirements:\n",
    "\n",
    "* 2 players should be able to play the game(both sitting at the same computer)\n",
    "* The board should be printed out every time a player makes a move\n",
    "* You should be able to accept input of the player position and then place a symbol on the board\n",
    "* You also need to display the winnner after the game\n",
    "* Then you must be able to decide on playing the game next round or not\n",
    "\n",
    "And most importantly:\n",
    "\n",
    "* **You must use OOP and class in some portions of your game. You cannot use just functions in your game.**\n",
    "\n",
    "Feel free to expand this game. Remember that you are free to use any resources you want and as always:\n",
    "\n",
    "# Have Fun!"
   ]
  }
 ],
 "metadata": {
  "kernelspec": {
   "display_name": "Python 3",
   "language": "python",
   "name": "python3"
  },
  "language_info": {
   "codemirror_mode": {
    "name": "ipython",
    "version": 3
   },
   "file_extension": ".py",
   "mimetype": "text/x-python",
   "name": "python",
   "nbconvert_exporter": "python",
   "pygments_lexer": "ipython3",
   "version": "3.6.4"
  }
 },
 "nbformat": 4,
 "nbformat_minor": 2
}
