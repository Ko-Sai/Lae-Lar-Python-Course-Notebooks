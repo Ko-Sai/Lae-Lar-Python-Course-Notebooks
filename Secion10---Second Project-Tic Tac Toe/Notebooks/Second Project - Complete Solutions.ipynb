{
 "cells": [
  {
   "cell_type": "markdown",
   "metadata": {},
   "source": [
    "# Project 2-Complete Solutions\n",
    "Here are a few steps for you to follow to try to create the Tic-Tac-Toe game!"
   ]
  },
  {
   "cell_type": "markdown",
   "metadata": {},
   "source": [
    "**Step1 : Create a Board class**<br>\n",
    "Here are the step by step guideline for creating a board class.\n",
    "\n",
    "- First, you need to create a board to display it on the screen. For that, fill out the display method and check if it really works or not.\n",
    "\n",
    "- Second, you can print anything you want at the start of the game(decorating the display). For that, jump to Step2 and fill the print_header() function.\n",
    "\n",
    "- Third, fill out the refresh_screen() function in Step3 to clearing the output. In that function, put the header function and display board method as well. So, everytime you calling it, the new board is displayed on the screen.\n",
    "\n",
    "- Fourth, try to fill out the Step4 while loop. Use some methods provided in Step1 Board Class to make our game alive!"
   ]
  },
  {
   "cell_type": "code",
   "execution_count": 1,
   "metadata": {},
   "outputs": [],
   "source": [
    "from IPython.display import clear_output\n",
    "clear_output()\n",
    "\n",
    "class Board():\n",
    "    \n",
    "    def __init__(self):\n",
    "        self.cells = [\"\",\" \",\" \",\" \",\" \",\" \",\" \",\" \",\" \",\" \"]\n",
    "    \n",
    "    #displaying the tic-tac-toe board by using some print functions\n",
    "    def display(self):\n",
    "        print(\" %s | %s | %s \" %(self.cells[1],self.cells[2],self.cells[3]))\n",
    "        print(\"-----------\")\n",
    "        print(\" %s | %s | %s \" %(self.cells[4],self.cells[5],self.cells[6]))\n",
    "        print(\"-----------\")\n",
    "        print(\" %s | %s | %s \" %(self.cells[7],self.cells[8],self.cells[9]))\n",
    "        \n",
    "    #update the cells list with 'X' or 'O' if user chooses a cell number\n",
    "    def update_cells(self, cell_num, player):\n",
    "        self.cells[cell_num] = player\n",
    "    \n",
    "    #checking the empty cell\n",
    "    #return true if there is an empty cell\n",
    "    def space_check(self, cell_num):\n",
    "        return self.cells[cell_num] == \" \"\n",
    "            \n",
    "    #checking the winner\n",
    "    def is_winner(self, player):\n",
    "        return ((self.cells[1]==player and self.cells[2]==player and self.cells[3]==player) or \n",
    "               (self.cells[4]==player and self.cells[5]==player and self.cells[6]==player) or \n",
    "               (self.cells[7]==player and self.cells[8]==player and self.cells[9]==player) or \n",
    "               (self.cells[1]==player and self.cells[4]==player and self.cells[7]==player) or \n",
    "               (self.cells[2]==player and self.cells[5]==player and self.cells[8]==player) or \n",
    "               (self.cells[3]==player and self.cells[6]==player and self.cells[9]==player) or \n",
    "               (self.cells[1]==player and self.cells[5]==player and self.cells[9]==player) or \n",
    "               (self.cells[3]==player and self.cells[5]==player and self.cells[7]==player)) \n",
    "    \n",
    "    #checking tie or not            \n",
    "    def is_tie(self):\n",
    "        return not(\" \" in self.cells)\n",
    "   \n",
    "    #reseting the board\n",
    "    def reset(self):\n",
    "        self.cells = [\"\",\" \",\" \",\" \",\" \",\" \",\" \",\" \",\" \",\" \"]"
   ]
  },
  {
   "cell_type": "markdown",
   "metadata": {},
   "source": [
    "You can test your methods here."
   ]
  },
  {
   "cell_type": "code",
   "execution_count": null,
   "metadata": {},
   "outputs": [],
   "source": []
  },
  {
   "cell_type": "markdown",
   "metadata": {},
   "source": [
    "**Step2 : Write a function to decorate the game by printing anything you like at the start of it.**"
   ]
  },
  {
   "cell_type": "code",
   "execution_count": 2,
   "metadata": {},
   "outputs": [],
   "source": [
    "def print_header():\n",
    "    \n",
    "    print(\"        Welcome to Tic-Tac-Toe Game!\\n\")\n",
    "    print(\"Choose 1 to 9!                 1 | 2 | 3 \")\n",
    "    print(\"                               4 | 5 | 6 \")\n",
    "    print(\"                               7 | 8 | 9 \")"
   ]
  },
  {
   "cell_type": "markdown",
   "metadata": {},
   "source": [
    "**Step3 : Design a function that clears the output and displays the headers and the board above you have written.**"
   ]
  },
  {
   "cell_type": "code",
   "execution_count": 3,
   "metadata": {},
   "outputs": [],
   "source": [
    "def refresh_screen():\n",
    "    \n",
    "    #clearing the output screen\n",
    "    clear_output()\n",
    "    \n",
    "    #decorating the game\n",
    "    print_header()\n",
    "    \n",
    "    #display our board\n",
    "    board.display()    "
   ]
  },
  {
   "cell_type": "markdown",
   "metadata": {},
   "source": [
    "**Step4 : Here comes the hard part! Use while loop, the functions and the methods of the class you've made to run the game.** "
   ]
  },
  {
   "cell_type": "code",
   "execution_count": 4,
   "metadata": {},
   "outputs": [
    {
     "name": "stdout",
     "output_type": "stream",
     "text": [
      "        Welcome to Tic-Tac-Toe Game!\n",
      "\n",
      "Choose 1 to 9!                 1 | 2 | 3 \n",
      "                               4 | 5 | 6 \n",
      "                               7 | 8 | 9 \n",
      " X | O | X \n",
      "-----------\n",
      " O | X | O \n",
      "-----------\n",
      " X |   |   \n",
      "\n",
      "X wins!\n",
      "\n",
      "Do you want to play again? (Y/N): n\n"
     ]
    }
   ],
   "source": [
    "board = Board()\n",
    "\n",
    "while True:\n",
    "    \n",
    "    # Refresh the screen\n",
    "    refresh_screen()\n",
    "    \n",
    "    #X turn\n",
    "    choice = 0\n",
    "    while choice not in [1,2,3,4,5,6,7,8,9] or not board.space_check(choice):\n",
    "        choice = int(input(\"\\nX : Please choose 1-9: \"))\n",
    "    \n",
    "    #update cells\n",
    "    board.update_cells(choice,'X')\n",
    "    \n",
    "    \n",
    "    #test winner\n",
    "    if board.is_winner('X'):\n",
    "        \n",
    "        refresh_screen()\n",
    "        print('\\nX wins!\\n')\n",
    "        play_again = input(\"Do you want to play again? (Y/N): \").upper()\n",
    "        \n",
    "        # if play again\n",
    "        if play_again == 'Y':\n",
    "            \n",
    "            # reset the board\n",
    "            board.reset()\n",
    "            continue\n",
    "        \n",
    "        # if not\n",
    "        else:\n",
    "            break\n",
    "    # Refresh the screen   \n",
    "    refresh_screen()\n",
    "    \n",
    "    # Tie test\n",
    "    if board.is_tie():\n",
    "        \n",
    "        print(\"\\nDraw!\\n\")\n",
    "        play_again = input(\"Do you want to play again? (Y/N): \").upper()\n",
    "        \n",
    "        # if play again\n",
    "        if play_again == 'Y':\n",
    "            \n",
    "            # reset the board\n",
    "            board.reset()\n",
    "            continue\n",
    "            \n",
    "        # if not\n",
    "        else:\n",
    "            break\n",
    "    \n",
    "    #O turn\n",
    "    choice = 0\n",
    "    while choice not in [1,2,3,4,5,6,7,8,9] or not board.space_check(choice):\n",
    "        choice = int(input(\"\\nO : Please choose 1-9: \"))\n",
    "    \n",
    "    #update cells\n",
    "    board.update_cells(choice,'O')\n",
    "    \n",
    "    #test winner\n",
    "    if board.is_winner('O'):\n",
    "        \n",
    "        refresh_screen()\n",
    "        print('\\nO wins!\\n')\n",
    "        play_again = input(\"Do you want to play again? (Y/N): \").upper()\n",
    "        \n",
    "        if play_again == 'Y':\n",
    "            board.reset()\n",
    "            continue\n",
    "        else:\n",
    "            break"
   ]
  },
  {
   "cell_type": "markdown",
   "metadata": {},
   "source": [
    "## Good Job!"
   ]
  }
 ],
 "metadata": {
  "kernelspec": {
   "display_name": "Python 3",
   "language": "python",
   "name": "python3"
  },
  "language_info": {
   "codemirror_mode": {
    "name": "ipython",
    "version": 3
   },
   "file_extension": ".py",
   "mimetype": "text/x-python",
   "name": "python",
   "nbconvert_exporter": "python",
   "pygments_lexer": "ipython3",
   "version": "3.6.4"
  }
 },
 "nbformat": 4,
 "nbformat_minor": 2
}
