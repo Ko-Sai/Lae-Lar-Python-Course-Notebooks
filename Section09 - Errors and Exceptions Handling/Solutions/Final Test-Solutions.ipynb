{
 "cells": [
  {
   "cell_type": "markdown",
   "metadata": {},
   "source": [
    "# Final Test"
   ]
  },
  {
   "cell_type": "markdown",
   "metadata": {},
   "source": [
    "Solve the following problems."
   ]
  },
  {
   "cell_type": "markdown",
   "metadata": {},
   "source": [
    "1.) Handle the exception in the code below by using **try** and **except** blocks."
   ]
  },
  {
   "cell_type": "code",
   "execution_count": 1,
   "metadata": {},
   "outputs": [
    {
     "name": "stdout",
     "output_type": "stream",
     "text": [
      "There is an error\n"
     ]
    }
   ],
   "source": [
    "try:\n",
    "    print('Bo Bo is just {} years old and he knows how to use {} well. He is quite {} at his age.'.format(3,'phones'))\n",
    "except:\n",
    "    print('There is an error')"
   ]
  },
  {
   "cell_type": "markdown",
   "metadata": {},
   "source": [
    "2.) Handle the exception thrown by the code below by using **try** and **except** blocks. Then use a **finally** block to print ' It works well! '"
   ]
  },
  {
   "cell_type": "code",
   "execution_count": 2,
   "metadata": {},
   "outputs": [
    {
     "name": "stdout",
     "output_type": "stream",
     "text": [
      "Strings cannot be doubled\n",
      "It works well!\n"
     ]
    }
   ],
   "source": [
    "try:\n",
    "    for i in ['x','y','z']:\n",
    "        print(i**2)\n",
    "except TypeError:\n",
    "    print('Strings cannot be doubled')\n",
    "finally:\n",
    "    print('It works well!')"
   ]
  },
  {
   "cell_type": "markdown",
   "metadata": {},
   "source": [
    "3.) Write a function that asks for an integer and return the square root of it. Use a  *while* loop with a *try*, *except*, *else* block to repeatedly ask for inputs till you get a correct one."
   ]
  },
  {
   "cell_type": "code",
   "execution_count": 4,
   "metadata": {},
   "outputs": [],
   "source": [
    "def integer():\n",
    "    while True:\n",
    "        try:\n",
    "            x = int(input('Please enter a number: '))\n",
    "        except:\n",
    "            print('It is not a number, try again')\n",
    "            continue\n",
    "        else:\n",
    "            break\n",
    "    return 'The square root of the number is' , x**0.5"
   ]
  },
  {
   "cell_type": "code",
   "execution_count": 5,
   "metadata": {},
   "outputs": [
    {
     "name": "stdout",
     "output_type": "stream",
     "text": [
      "Please enter a number: four\n",
      "It is not a number, try again\n",
      "Please enter a number: 4\n"
     ]
    },
    {
     "data": {
      "text/plain": [
       "('The square root of the number is', 2.0)"
      ]
     },
     "execution_count": 5,
     "metadata": {},
     "output_type": "execute_result"
    }
   ],
   "source": [
    "integer()"
   ]
  },
  {
   "cell_type": "markdown",
   "metadata": {},
   "source": [
    "4.) Design a function that asks for an integer. If the input is a negative one, make it squared, and if not, just return it. Use a  *while* loop with a *try*, *except*, *else* block to repeatedly ask for the input till you get a correct one."
   ]
  },
  {
   "cell_type": "code",
   "execution_count": 5,
   "metadata": {},
   "outputs": [],
   "source": [
    "def num():\n",
    "    while True:\n",
    "        try:\n",
    "            x = int(input('Enter a number: '))\n",
    "        except:    \n",
    "            print('This is not a number, try again')\n",
    "            continue\n",
    "        else:\n",
    "            break\n",
    "    if x <= 0: \n",
    "        return x**2\n",
    "    else:\n",
    "        return x"
   ]
  },
  {
   "cell_type": "code",
   "execution_count": 8,
   "metadata": {
    "scrolled": true
   },
   "outputs": [
    {
     "name": "stdout",
     "output_type": "stream",
     "text": [
      "Enter a number: one\n",
      "This is not a number, try again\n",
      "Enter a number: -3\n"
     ]
    },
    {
     "data": {
      "text/plain": [
       "9"
      ]
     },
     "execution_count": 8,
     "metadata": {},
     "output_type": "execute_result"
    }
   ],
   "source": [
    "num()"
   ]
  },
  {
   "cell_type": "code",
   "execution_count": 7,
   "metadata": {},
   "outputs": [
    {
     "name": "stdout",
     "output_type": "stream",
     "text": [
      "Enter a number: 10\n"
     ]
    },
    {
     "data": {
      "text/plain": [
       "10"
      ]
     },
     "execution_count": 7,
     "metadata": {},
     "output_type": "execute_result"
    }
   ],
   "source": [
    "num()"
   ]
  },
  {
   "cell_type": "markdown",
   "metadata": {},
   "source": [
    "##  Well Done!"
   ]
  }
 ],
 "metadata": {
  "kernelspec": {
   "display_name": "Python 3",
   "language": "python",
   "name": "python3"
  },
  "language_info": {
   "codemirror_mode": {
    "name": "ipython",
    "version": 3
   },
   "file_extension": ".py",
   "mimetype": "text/x-python",
   "name": "python",
   "nbconvert_exporter": "python",
   "pygments_lexer": "ipython3",
   "version": "3.6.4"
  }
 },
 "nbformat": 4,
 "nbformat_minor": 2
}
