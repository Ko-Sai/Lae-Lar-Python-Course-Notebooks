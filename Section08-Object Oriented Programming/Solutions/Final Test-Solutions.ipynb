{
 "cells": [
  {
   "cell_type": "markdown",
   "metadata": {},
   "source": [
    "# Final Test\n",
    "Solve the following problems."
   ]
  },
  {
   "cell_type": "markdown",
   "metadata": {},
   "source": [
    "1.) Design the Line class methods to accept coordinates as a pair of tuples and return the slope and distance of the line."
   ]
  },
  {
   "cell_type": "code",
   "execution_count": 46,
   "metadata": {},
   "outputs": [],
   "source": [
    "class Line(object):\n",
    "    \n",
    "    def __init__(self,coor1,coor2):\n",
    "        self.coor1 = coor1\n",
    "        self.coor2 = coor2\n",
    "    \n",
    "    def distance(self):\n",
    "        x1,y1 = self.coor1\n",
    "        x2,y2 = self.coor2\n",
    "        return ((x2-x1)**2 + (y2-y1)**2)**0.5\n",
    "    \n",
    "    def slope(self):\n",
    "        x1,y1 = self.coor1\n",
    "        x2,y2 = self.coor2\n",
    "        return (y2-y1)/(x2-x1)"
   ]
  },
  {
   "cell_type": "code",
   "execution_count": 53,
   "metadata": {},
   "outputs": [],
   "source": [
    "# Instantiate the class\n",
    "coordinate1 = (1,3)\n",
    "coordinate2 = (2,10)\n",
    "\n",
    "line1 = Line(coordinate1,coordinate2)"
   ]
  },
  {
   "cell_type": "code",
   "execution_count": 51,
   "metadata": {},
   "outputs": [
    {
     "data": {
      "text/plain": [
       "7.0710678118654755"
      ]
     },
     "execution_count": 51,
     "metadata": {},
     "output_type": "execute_result"
    }
   ],
   "source": [
    "# Distance of two coordinates\n",
    "line1.distance()\n"
   ]
  },
  {
   "cell_type": "code",
   "execution_count": 52,
   "metadata": {},
   "outputs": [
    {
     "data": {
      "text/plain": [
       "7.0"
      ]
     },
     "execution_count": 52,
     "metadata": {},
     "output_type": "execute_result"
    }
   ],
   "source": [
    "# Slope of two coordinates\n",
    "line1.slope()\n"
   ]
  },
  {
   "cell_type": "markdown",
   "metadata": {},
   "source": [
    "2.) For this problem, create a employee class that has two attributes:\n",
    "\n",
    "     * name\n",
    "     * salary\n",
    "     \n",
    "   and two methods:\n",
    "   \n",
    "       * display_employee\n",
    "       * overtime_payment\n",
    "       \n",
    "   For requirements; limiting working hours = 7hrs and overtime payment for each employee = 500\n",
    "                     \n",
    "   Instantiate your class, have several employees and check whether your methods    are correct."
   ]
  },
  {
   "cell_type": "code",
   "execution_count": 97,
   "metadata": {},
   "outputs": [],
   "source": [
    "class Employee:\n",
    "    emp_count = 0\n",
    "    \n",
    "    def __init__(self,name,salary):\n",
    "        self.name = name\n",
    "        self.salary = salary\n",
    "        Employee.emp_count += 1 \n",
    "        \n",
    "    def display_employee(self):\n",
    "        print(\"Name : {} \".format(self.name), \", Salary: {} \".format(self.salary))\n",
    "        \n",
    "    def overtime_payment(self,work_hours):\n",
    "        if work_hours >= 7:\n",
    "            self.salary += 500\n",
    "            print(f'You will get extra bonus 500 and your total salary is {self.salary}' )\n",
    "        else:\n",
    "            print(f'You will get a salary and your total salary is {self.salary}')          "
   ]
  },
  {
   "cell_type": "code",
   "execution_count": 98,
   "metadata": {},
   "outputs": [],
   "source": [
    "# Instantiate the class\n",
    "emp1 = Employee('Mina',5000)"
   ]
  },
  {
   "cell_type": "code",
   "execution_count": 99,
   "metadata": {},
   "outputs": [],
   "source": [
    "# Instantiate the class\n",
    "emp2 = Employee('Sherry',7000)"
   ]
  },
  {
   "cell_type": "code",
   "execution_count": 100,
   "metadata": {},
   "outputs": [
    {
     "data": {
      "text/plain": [
       "2"
      ]
     },
     "execution_count": 100,
     "metadata": {},
     "output_type": "execute_result"
    }
   ],
   "source": [
    "# Count the number of employees\n",
    "Employee.emp_count\n"
   ]
  },
  {
   "cell_type": "code",
   "execution_count": 101,
   "metadata": {},
   "outputs": [
    {
     "name": "stdout",
     "output_type": "stream",
     "text": [
      "Name : Mina  , Salary: 5000 \n"
     ]
    }
   ],
   "source": [
    "# Display the name and salary of employee1\n",
    "emp1.display_employee()\n"
   ]
  },
  {
   "cell_type": "code",
   "execution_count": 102,
   "metadata": {},
   "outputs": [
    {
     "name": "stdout",
     "output_type": "stream",
     "text": [
      "Name : Sherry  , Salary: 7000 \n"
     ]
    }
   ],
   "source": [
    "# Display the name and salary of employee2\n",
    "emp2.display_employee()\n"
   ]
  },
  {
   "cell_type": "code",
   "execution_count": 43,
   "metadata": {},
   "outputs": [
    {
     "name": "stdout",
     "output_type": "stream",
     "text": [
      "You will get a salary and your total salary is 5000\n"
     ]
    }
   ],
   "source": [
    "# Display the total salary of employee1\n",
    "emp1.overtime_payment(6)\n"
   ]
  },
  {
   "cell_type": "code",
   "execution_count": 44,
   "metadata": {},
   "outputs": [
    {
     "name": "stdout",
     "output_type": "stream",
     "text": [
      "You will get extra bonus 500 and your total salary is 7500\n"
     ]
    }
   ],
   "source": [
    "# Display the total salary of employee2\n",
    "emp2.overtime_payment(9)\n"
   ]
  },
  {
   "cell_type": "markdown",
   "metadata": {},
   "source": [
    "3.) Create a bank account class that has two attributes:\n",
    "\n",
    "* owner_name\n",
    "* balance\n",
    "\n",
    "and two methods:\n",
    "\n",
    "* deposit\n",
    "* withdrawal\n",
    "\n",
    "As an added requirement, withdrawals may not exceed the available balance.\n",
    "\n",
    "Instantiate your class, make several deposits and withdrawals, and test to make sure the account can't be overdrawn."
   ]
  },
  {
   "cell_type": "code",
   "execution_count": 109,
   "metadata": {},
   "outputs": [],
   "source": [
    "class Bank_account:\n",
    "    def __init__(self,owner_name,balance=0):\n",
    "        self.owner_name = owner_name\n",
    "        self.balance = balance\n",
    "        \n",
    "    def __str__(self):\n",
    "        return f'Account owner:   {self.owner_name}\\nAccount balance: ${self.balance}'\n",
    "        \n",
    "    def deposit(self,dep_amount):\n",
    "        self.balance += dep_amount\n",
    "        print('Deposit Accepted and your balance now is {}'.format(self.balance))\n",
    "        \n",
    "    def withdrawal(self,wd_amount):\n",
    "        if self.balance >= wd_amount:\n",
    "            self.balance -= wd_amount\n",
    "            print(f'Withdrawal Accepted and your balance now is {self.balance}')\n",
    "        else:\n",
    "            print('Invalid!')"
   ]
  },
  {
   "cell_type": "code",
   "execution_count": 110,
   "metadata": {},
   "outputs": [],
   "source": [
    "# Instantiate the class\n",
    "acc1 = Bank_account('Nancy',200)"
   ]
  },
  {
   "cell_type": "code",
   "execution_count": 111,
   "metadata": {},
   "outputs": [
    {
     "name": "stdout",
     "output_type": "stream",
     "text": [
      "Account owner:   Nancy\n",
      "Account balance: $200\n"
     ]
    }
   ],
   "source": [
    "# Print the object\n",
    "print(acc1)\n"
   ]
  },
  {
   "cell_type": "code",
   "execution_count": 112,
   "metadata": {},
   "outputs": [
    {
     "data": {
      "text/plain": [
       "'Nancy'"
      ]
     },
     "execution_count": 112,
     "metadata": {},
     "output_type": "execute_result"
    }
   ],
   "source": [
    "# Show the account owner attribute\n",
    "acc1.owner_name\n"
   ]
  },
  {
   "cell_type": "code",
   "execution_count": 113,
   "metadata": {},
   "outputs": [
    {
     "data": {
      "text/plain": [
       "200"
      ]
     },
     "execution_count": 113,
     "metadata": {},
     "output_type": "execute_result"
    }
   ],
   "source": [
    "# Show the account balance attribute\n",
    "acc1.balance\n"
   ]
  },
  {
   "cell_type": "code",
   "execution_count": 114,
   "metadata": {},
   "outputs": [
    {
     "name": "stdout",
     "output_type": "stream",
     "text": [
      "Deposit Accepted and your balance now is 300\n"
     ]
    }
   ],
   "source": [
    "# Make a series of deposits and withdrawals\n",
    "acc1.deposit(100)\n"
   ]
  },
  {
   "cell_type": "code",
   "execution_count": 115,
   "metadata": {},
   "outputs": [
    {
     "name": "stdout",
     "output_type": "stream",
     "text": [
      "Withdrawal Accepted and your balance now is 150\n"
     ]
    }
   ],
   "source": [
    "acc1.withdrawal(150)\n"
   ]
  },
  {
   "cell_type": "code",
   "execution_count": 116,
   "metadata": {},
   "outputs": [
    {
     "name": "stdout",
     "output_type": "stream",
     "text": [
      "Invalid!\n"
     ]
    }
   ],
   "source": [
    "acc1.withdrawal(400)\n"
   ]
  },
  {
   "cell_type": "markdown",
   "metadata": {},
   "source": [
    "## Great Job!"
   ]
  }
 ],
 "metadata": {
  "kernelspec": {
   "display_name": "Python 3",
   "language": "python",
   "name": "python3"
  },
  "language_info": {
   "codemirror_mode": {
    "name": "ipython",
    "version": 3
   },
   "file_extension": ".py",
   "mimetype": "text/x-python",
   "name": "python",
   "nbconvert_exporter": "python",
   "pygments_lexer": "ipython3",
   "version": "3.6.4"
  }
 },
 "nbformat": 4,
 "nbformat_minor": 2
}
