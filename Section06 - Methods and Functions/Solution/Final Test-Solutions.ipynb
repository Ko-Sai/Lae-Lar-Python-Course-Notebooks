{
 "cells": [
  {
   "cell_type": "markdown",
   "metadata": {},
   "source": [
    "# Final Test"
   ]
  },
  {
   "cell_type": "markdown",
   "metadata": {},
   "source": [
    "Answer the following questions."
   ]
  },
  {
   "cell_type": "markdown",
   "metadata": {},
   "source": [
    "1.) Write a function that calculates the surface area of cylinder which can be *hollow or solid*.\n",
    "    \n",
    "    cylinder_area(2,4,True)  --> 75.36\n",
    "    cylinder_area(2,4,False) --> 50.24"
   ]
  },
  {
   "cell_type": "markdown",
   "metadata": {},
   "source": [
    "   $$A = 2\\pi rh + 2\\pi r^2  (solid)$$ "
   ]
  },
  {
   "cell_type": "markdown",
   "metadata": {},
   "source": [
    "   $$A = 2\\pi rh (hollow)$$"
   ]
  },
  {
   "cell_type": "code",
   "execution_count": 1,
   "metadata": {},
   "outputs": [],
   "source": [
    "def cylinder_area(radius,height,top_and_btm):\n",
    "    side_area = height * 6.28 * radius\n",
    "    # if solid\n",
    "    if top_and_btm:\n",
    "        top_area = 3.14 * radius ** 2\n",
    "        return 2 * top_area + side_area\n",
    "    # if hollow\n",
    "    else:\n",
    "        return side_area"
   ]
  },
  {
   "cell_type": "code",
   "execution_count": 2,
   "metadata": {},
   "outputs": [
    {
     "data": {
      "text/plain": [
       "75.36"
      ]
     },
     "execution_count": 2,
     "metadata": {},
     "output_type": "execute_result"
    }
   ],
   "source": [
    "# Check\n",
    "cylinder_area(2,4,True)"
   ]
  },
  {
   "cell_type": "code",
   "execution_count": 3,
   "metadata": {},
   "outputs": [
    {
     "data": {
      "text/plain": [
       "50.24"
      ]
     },
     "execution_count": 3,
     "metadata": {},
     "output_type": "execute_result"
    }
   ],
   "source": [
    "# Check\n",
    "cylinder_area(2,4,False)"
   ]
  },
  {
   "cell_type": "markdown",
   "metadata": {},
   "source": [
    "2.) Write a Python function that checks whether a number is in a given range() (*inclusive of high and low*)\n",
    "\n",
    "        num_check(4,2,4)  --> '4 is between 2 and 4'\n",
    "        num_check(10,3,9) --> 'Not in the range'"
   ]
  },
  {
   "cell_type": "code",
   "execution_count": 1,
   "metadata": {},
   "outputs": [],
   "source": [
    "def num_check(num,low,high):\n",
    "    if num in range(low,high+1):\n",
    "        return str(num) + ' is between %s and %s' %(low,high)\n",
    "    else:\n",
    "        return 'Not in the range'"
   ]
  },
  {
   "cell_type": "code",
   "execution_count": 2,
   "metadata": {},
   "outputs": [
    {
     "data": {
      "text/plain": [
       "'4 is between 2 and 4'"
      ]
     },
     "execution_count": 2,
     "metadata": {},
     "output_type": "execute_result"
    }
   ],
   "source": [
    "# Check\n",
    "num_check(4,2,4)"
   ]
  },
  {
   "cell_type": "code",
   "execution_count": 9,
   "metadata": {},
   "outputs": [
    {
     "data": {
      "text/plain": [
       "'Not in the range'"
      ]
     },
     "execution_count": 9,
     "metadata": {},
     "output_type": "execute_result"
    }
   ],
   "source": [
    "# Check\n",
    "num_check(10,3,9)"
   ]
  },
  {
   "cell_type": "markdown",
   "metadata": {},
   "source": [
    "If you only want a boolean output of the function:\n",
    "\n",
    "    num_bool(5,1,10) --> True"
   ]
  },
  {
   "cell_type": "code",
   "execution_count": 10,
   "metadata": {},
   "outputs": [],
   "source": [
    "def num_bool(num,low,high):\n",
    "    return num in range(low,high+1)"
   ]
  },
  {
   "cell_type": "code",
   "execution_count": 11,
   "metadata": {},
   "outputs": [
    {
     "data": {
      "text/plain": [
       "True"
      ]
     },
     "execution_count": 11,
     "metadata": {},
     "output_type": "execute_result"
    }
   ],
   "source": [
    "# Check\n",
    "num_bool(5,1,10)"
   ]
  },
  {
   "cell_type": "markdown",
   "metadata": {},
   "source": [
    "3.) Write a program that takes one argument, an integer *days* and returns a string that says how many weeks and days that is.\n",
    "\n",
    "    weeks_days(34) --> '4 week(s) and 6 day(s)'"
   ]
  },
  {
   "cell_type": "code",
   "execution_count": 12,
   "metadata": {},
   "outputs": [],
   "source": [
    "def weeks_days(days):\n",
    "    weeks = days // 7\n",
    "    remainder = days % 7\n",
    "    return '{} week(s) and {} day(s)'.format(weeks,remainder)"
   ]
  },
  {
   "cell_type": "code",
   "execution_count": 13,
   "metadata": {},
   "outputs": [
    {
     "data": {
      "text/plain": [
       "'4 week(s) and 6 day(s)'"
      ]
     },
     "execution_count": 13,
     "metadata": {},
     "output_type": "execute_result"
    }
   ],
   "source": [
    "# Check\n",
    "weeks_days(34)"
   ]
  },
  {
   "cell_type": "markdown",
   "metadata": {},
   "source": [
    "4.) Write a function that accepts a string and computes the number of upper case letters and lower case letters.\n",
    "        \n",
    "   up_low('Nang, have you watched this movie, The Avengers: Infinity War?') -->     \n",
    "   \n",
    "       No. of upper case letters : 5\n",
    "       No. of lower case letters : 44"
   ]
  },
  {
   "cell_type": "code",
   "execution_count": 1,
   "metadata": {},
   "outputs": [],
   "source": [
    "def up_low(string):\n",
    "    x = 0\n",
    "    y = 0\n",
    "    for letter in string:\n",
    "        if letter.isupper():\n",
    "            x += 1\n",
    "        elif letter.islower():\n",
    "            y += 1\n",
    "        else:\n",
    "            pass\n",
    "    print('No. of upper case letters :',x)\n",
    "    print('No. of lower case letters :',y)"
   ]
  },
  {
   "cell_type": "code",
   "execution_count": 2,
   "metadata": {},
   "outputs": [
    {
     "name": "stdout",
     "output_type": "stream",
     "text": [
      "No. of upper case letters : 5\n",
      "No. of lower case letters : 44\n"
     ]
    }
   ],
   "source": [
    "# Check\n",
    "up_low('Nang, have you watched this movie, The Avengers: Infinity War?')"
   ]
  },
  {
   "cell_type": "markdown",
   "metadata": {},
   "source": [
    "5.) Write a function that multiplies all the numbers in a list.\n",
    "\n",
    "    result([4,2,2,7]) --> 112"
   ]
  },
  {
   "cell_type": "code",
   "execution_count": 17,
   "metadata": {},
   "outputs": [],
   "source": [
    "def result(lst):\n",
    "    total = 1\n",
    "    for i in lst:\n",
    "        total *= i\n",
    "    return total"
   ]
  },
  {
   "cell_type": "code",
   "execution_count": 18,
   "metadata": {},
   "outputs": [
    {
     "data": {
      "text/plain": [
       "112"
      ]
     },
     "execution_count": 18,
     "metadata": {},
     "output_type": "execute_result"
    }
   ],
   "source": [
    "# Check\n",
    "result([4,2,2,7])"
   ]
  },
  {
   "cell_type": "markdown",
   "metadata": {},
   "source": [
    "6.) Write a function that accepts a comma-separated sequence of words and prints the words in a hyphen-separated sequence after sorting them alphabetically.\n",
    "\n",
    "    hyphen_words('orange,apple,banana,durian,mango') --> apple-banana-durian-mango-orange"
   ]
  },
  {
   "cell_type": "code",
   "execution_count": 72,
   "metadata": {},
   "outputs": [],
   "source": [
    "def hyphen_words(phrase):\n",
    "    x =phrase.split(',')\n",
    "    x.sort()\n",
    "    print('-'.join(x))"
   ]
  },
  {
   "cell_type": "code",
   "execution_count": 73,
   "metadata": {},
   "outputs": [
    {
     "name": "stdout",
     "output_type": "stream",
     "text": [
      "apple-banana-durian-mango-orange\n"
     ]
    }
   ],
   "source": [
    "# Check\n",
    "hyphen_words('orange,apple,banana,durian,mango')"
   ]
  },
  {
   "cell_type": "markdown",
   "metadata": {},
   "source": [
    "7.) Write a Python function that takes a list and returns a new list with unique elements of the first list.\n",
    "\n",
    "    unique_list([1,1,1,1,2,2,3,3,3,3,4,5]) --> [1,2,3,4,5]"
   ]
  },
  {
   "cell_type": "code",
   "execution_count": 85,
   "metadata": {},
   "outputs": [],
   "source": [
    "def unique_list(lst):\n",
    "    # Also possible to use list(set())\n",
    "    x = []\n",
    "    for a in lst:\n",
    "        if a not in x:\n",
    "            x.append(a)\n",
    "    return x"
   ]
  },
  {
   "cell_type": "code",
   "execution_count": 86,
   "metadata": {},
   "outputs": [
    {
     "data": {
      "text/plain": [
       "[1, 2, 3, 4, 5]"
      ]
     },
     "execution_count": 86,
     "metadata": {},
     "output_type": "execute_result"
    }
   ],
   "source": [
    "unique_list([1,1,1,1,2,2,3,3,3,3,4,5])"
   ]
  },
  {
   "cell_type": "markdown",
   "metadata": {},
   "source": [
    "### Nicely Done!"
   ]
  }
 ],
 "metadata": {
  "kernelspec": {
   "display_name": "Python 3",
   "language": "python",
   "name": "python3"
  },
  "language_info": {
   "codemirror_mode": {
    "name": "ipython",
    "version": 3
   },
   "file_extension": ".py",
   "mimetype": "text/x-python",
   "name": "python",
   "nbconvert_exporter": "python",
   "pygments_lexer": "ipython3",
   "version": "3.6.4"
  }
 },
 "nbformat": 4,
 "nbformat_minor": 2
}
