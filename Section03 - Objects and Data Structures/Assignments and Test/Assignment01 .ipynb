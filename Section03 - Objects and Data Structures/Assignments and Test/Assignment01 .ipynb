{
 "cells": [
  {
   "cell_type": "markdown",
   "metadata": {},
   "source": [
    "# Assignment"
   ]
  },
  {
   "cell_type": "markdown",
   "metadata": {},
   "source": [
    "Answer these questions without typing code. Then type code to check your answer.\n",
    "\n",
    "    1.) What is the value of the expression 2 * 3 + 3 ?\n",
    "    \n",
    "    2.) What is the value of the expression 2 * (3 + 3) ?\n",
    "    \n",
    "    3.) What is the value of the expression (2 % 3) / 2 ?\n",
    "    \n",
    "    4.) What is the type of the result of the expression 3 + 4.2 + 1.8 ?\n",
    "    \n",
    "    5.) If a = 5, what is the output of the expression a *= 3 ?\n",
    "    \n",
    "    6.) If you want to find a number's square root, what would you use ?\n",
    "    "
   ]
  },
  {
   "cell_type": "code",
   "execution_count": null,
   "metadata": {},
   "outputs": [],
   "source": []
  }
 ],
 "metadata": {
  "kernelspec": {
   "display_name": "Python 3",
   "language": "python",
   "name": "python3"
  },
  "language_info": {
   "codemirror_mode": {
    "name": "ipython",
    "version": 3
   },
   "file_extension": ".py",
   "mimetype": "text/x-python",
   "name": "python",
   "nbconvert_exporter": "python",
   "pygments_lexer": "ipython3",
   "version": "3.6.4"
  }
 },
 "nbformat": 4,
 "nbformat_minor": 2
}
